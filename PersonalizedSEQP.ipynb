{
 "cells": [
  {
   "cell_type": "markdown",
   "id": "b9cbf093-246b-45cf-8f38-a2c0b5e978cd",
   "metadata": {},
   "source": [
    "# SEQP Personalized Signal Generator\n",
    "This is a Jupyter notebook designed to create a personalized version of the SEQP test signal. "
   ]
  },
  {
   "cell_type": "code",
   "execution_count": 1,
   "id": "1bd37be2-0a5e-47c5-bb9b-3c62fdb11c1f",
   "metadata": {
    "tags": []
   },
   "outputs": [],
   "source": [
    "call = 'KD8OXT'\n",
    "maidenhead = 'EN91em'"
   ]
  },
  {
   "cell_type": "markdown",
   "id": "355428c9-d45d-428d-adf6-0dacf7fc71c5",
   "metadata": {},
   "source": [
    "### 0) Housekeeping: Import packages and set audio parameters"
   ]
  },
  {
   "cell_type": "code",
   "execution_count": 2,
   "id": "1b0f5102-878f-40bf-be90-75c538f6a1de",
   "metadata": {
    "tags": []
   },
   "outputs": [],
   "source": [
    "fs = 48000;                   # sample rate, samples per second\n",
    "dt = 1/fs;                    # length of a single sample, seconds per sample\n",
    "wpm = 20                      # morse code words per minute"
   ]
  },
  {
   "cell_type": "code",
   "execution_count": 3,
   "id": "47cb1bca-b135-42a5-82ed-1ce44deab9e6",
   "metadata": {
    "tags": []
   },
   "outputs": [],
   "source": [
    "import morse_talk as mtalk"
   ]
  },
  {
   "cell_type": "markdown",
   "id": "14f854f5-d704-4f78-aa43-ccf761321401",
   "metadata": {},
   "source": [
    "## 1) Generate pseudorandom signal from user's callsign and grid square.\n",
    "Let's generate two seconds of static - one from the callsign, one from the grid square. We'll stick them together."
   ]
  },
  {
   "cell_type": "code",
   "execution_count": 4,
   "id": "75af23ae-e2d5-4d44-89f5-ff4d9b27af17",
   "metadata": {
    "tags": []
   },
   "outputs": [],
   "source": [
    "import numpy as np\n",
    "from numpy.random import default_rng"
   ]
  },
  {
   "cell_type": "code",
   "execution_count": 5,
   "id": "66133ac5-3bb0-4a78-8c40-9df2353bb9e9",
   "metadata": {
    "tags": []
   },
   "outputs": [],
   "source": [
    "rng_call = default_rng(list(call.encode('utf-8')))"
   ]
  },
  {
   "cell_type": "code",
   "execution_count": 6,
   "id": "680fa5ab-7de0-47da-bcf4-6528e8bd61d3",
   "metadata": {
    "tags": []
   },
   "outputs": [
    {
     "data": {
      "text/plain": [
       "array([-1.16492545, -0.20373905, -1.04660338, -0.91713151,  2.1189248 ,\n",
       "       -0.59934971,  0.09140789, -1.12785716,  1.12018562,  0.81818285,\n",
       "       -1.23872975,  0.08551055])"
      ]
     },
     "execution_count": 6,
     "metadata": {},
     "output_type": "execute_result"
    }
   ],
   "source": [
    "rng_call.standard_normal(12)"
   ]
  },
  {
   "cell_type": "code",
   "execution_count": 7,
   "id": "42c486bd-a853-411e-8467-b8291b69fee2",
   "metadata": {
    "tags": []
   },
   "outputs": [],
   "source": [
    "# ... generate the actual noise type you want ..."
   ]
  },
  {
   "cell_type": "code",
   "execution_count": 8,
   "id": "a6e71cd6-92af-4ced-8a42-784a03677c60",
   "metadata": {
    "tags": []
   },
   "outputs": [],
   "source": [
    "rng_grid = default_rng(list(maidenhead.encode('utf-8')))"
   ]
  },
  {
   "cell_type": "code",
   "execution_count": 9,
   "id": "b5d49cb8-ffcc-461f-ac7b-1aa41915f945",
   "metadata": {
    "tags": []
   },
   "outputs": [
    {
     "data": {
      "text/plain": [
       "array([-0.81616291, -0.81423044,  0.26810335,  0.48489564, -0.48907039,\n",
       "        0.88278871,  1.68193052, -0.17138467,  0.38189222,  0.2192917 ,\n",
       "        0.75422993, -0.46875512])"
      ]
     },
     "execution_count": 9,
     "metadata": {},
     "output_type": "execute_result"
    }
   ],
   "source": [
    "rng_grid.standard_normal(12)"
   ]
  },
  {
   "cell_type": "markdown",
   "id": "e8745cca-d0a3-4edc-bc35-6426d15c0648",
   "metadata": {},
   "source": [
    "*One consequence of this approach is that users who re-run the cell that says `second_of_static = rng...` will not get the same answer. Try something like this instead:*"
   ]
  },
  {
   "cell_type": "code",
   "execution_count": 10,
   "id": "3c97f220-e0f2-4199-bf70-5d4b985e21a6",
   "metadata": {
    "tags": []
   },
   "outputs": [],
   "source": [
    "def pseudorandom_from_string(s):\n",
    "    rng = default_rng(list(s.encode('utf-8')))\n",
    "    return rng.standard_normal(12) # TODO change this to match size you want"
   ]
  },
  {
   "cell_type": "code",
   "execution_count": 11,
   "id": "1feee8b7-e31c-456c-88f4-080cd4422811",
   "metadata": {
    "tags": []
   },
   "outputs": [
    {
     "data": {
      "text/plain": [
       "array([-1.16492545, -0.20373905, -1.04660338, -0.91713151,  2.1189248 ,\n",
       "       -0.59934971,  0.09140789, -1.12785716,  1.12018562,  0.81818285,\n",
       "       -1.23872975,  0.08551055])"
      ]
     },
     "execution_count": 11,
     "metadata": {},
     "output_type": "execute_result"
    }
   ],
   "source": [
    "pseudorandom_from_string(call)"
   ]
  },
  {
   "cell_type": "code",
   "execution_count": 12,
   "id": "0d7e1bca-60c6-4fdd-bb5e-5649cf2f9b70",
   "metadata": {
    "tags": []
   },
   "outputs": [
    {
     "data": {
      "text/plain": [
       "array([-1.16492545, -0.20373905, -1.04660338, -0.91713151,  2.1189248 ,\n",
       "       -0.59934971,  0.09140789, -1.12785716,  1.12018562,  0.81818285,\n",
       "       -1.23872975,  0.08551055])"
      ]
     },
     "execution_count": 12,
     "metadata": {},
     "output_type": "execute_result"
    }
   ],
   "source": [
    "pseudorandom_from_string(call)"
   ]
  },
  {
   "cell_type": "markdown",
   "id": "257599bb-0c56-4455-b614-b1f843d779f0",
   "metadata": {},
   "source": [
    "*... should be repeatable...*"
   ]
  },
  {
   "cell_type": "markdown",
   "id": "7a1b6e00-7b3d-4d94-a9fc-d8f7bb63da3d",
   "metadata": {},
   "source": [
    "## 2) Generate Morse signal from user's callsign. \n",
    "This signal is at 20 WPM. All callsigns must fit in the same time block... and should be received by RBN."
   ]
  },
  {
   "cell_type": "code",
   "execution_count": 15,
   "id": "f28cf3af-8a9d-4c33-9448-d8a0ab7b4e6e",
   "metadata": {},
   "outputs": [
    {
     "name": "stdout",
     "output_type": "stream",
     "text": [
      "TEST de KD8OXT   EN91em   TEST de KD8OXT   EN91em   TEST de KD8OXT   EN91em   \n"
     ]
    }
   ],
   "source": [
    "msg = 'TEST de ' + call + \"   \" + maidenhead+ \"   \"\n",
    "msg = msg * 3\n",
    "print(msg)"
   ]
  },
  {
   "cell_type": "markdown",
   "id": "cf24e262-654c-4ff7-9980-1798329b8a7d",
   "metadata": {},
   "source": [
    "Let's convert the signal to an on-off signal:"
   ]
  },
  {
   "cell_type": "code",
   "execution_count": 24,
   "id": "768eb3f6-f7ac-4801-8c15-9aa33a983f8a",
   "metadata": {},
   "outputs": [
    {
     "data": {
      "text/plain": [
       "'111000100010101000111000000011101010001000000011101011100011101010001110111011101010001110111011100011101010111000111000000000000000100011101000111011101110111010001011101110111011100010001110111000000000000000111000100010101000111000000011101010001000000011101011100011101010001110111011101010001110111011100011101010111000111000000000000000100011101000111011101110111010001011101110111011100010001110111000000000000000111000100010101000111000000011101010001000000011101011100011101010001110111011101010001110111011100011101010111000111000000000000000100011101000111011101110111010001011101110111011100010001110111'"
      ]
     },
     "execution_count": 24,
     "metadata": {},
     "output_type": "execute_result"
    }
   ],
   "source": [
    "msg_cw = mtalk.encode(msg, encoding_type='binary')\n",
    "msg_cw"
   ]
  },
  {
   "cell_type": "code",
   "execution_count": 25,
   "id": "25fac2ec-b060-41a9-aa7c-6e20e59da3ad",
   "metadata": {},
   "outputs": [
    {
     "data": {
      "text/plain": [
       "615"
      ]
     },
     "execution_count": 25,
     "metadata": {},
     "output_type": "execute_result"
    }
   ],
   "source": [
    "len(msg_cw)"
   ]
  },
  {
   "cell_type": "markdown",
   "id": "f19c4c39-d66b-400b-b940-df6c88ac1417",
   "metadata": {},
   "source": [
    "We have to make sure this fits into a standard time frame, so let's prallocate an array of desired length, convert it to a list, and then add it in:"
   ]
  },
  {
   "cell_type": "markdown",
   "id": "c5178466-7944-40b8-8305-7df4542dfd2e",
   "metadata": {},
   "source": [
    "## 3) Concatenate PRN, CW, and radar chirps"
   ]
  },
  {
   "cell_type": "markdown",
   "id": "69d76bfb-92dd-418e-b913-034d2466a393",
   "metadata": {},
   "source": [
    "Now we add in the lightsaber noises. Er, chirps. \n",
    "\n",
    "Chirps from [![DOI](https://zenodo.org/badge/DOI/10.5281/zenodo.7659302.svg)](https://doi.org/10.5281/zenodo.7659302)."
   ]
  },
  {
   "cell_type": "code",
   "execution_count": 33,
   "id": "84a96331-21fe-40db-9e90-690a61bc3e19",
   "metadata": {},
   "outputs": [
    {
     "data": {
      "text/plain": [
       "array([[0.        , 0.        , 0.        , ..., 0.70699947, 0.70699989,\n",
       "        0.70699999]])"
      ]
     },
     "execution_count": 33,
     "metadata": {},
     "output_type": "execute_result"
    }
   ],
   "source": [
    "import pandas as pd\n",
    "data = pd.read_csv('https://zenodo.org/record/7659302/files/seqp-test.csv?download=1')\n",
    "chirps = data.to_numpy().transpose()\n",
    "chirps"
   ]
  },
  {
   "cell_type": "code",
   "execution_count": 37,
   "id": "75376352-adc9-42a2-b1d2-97d6a95e8cd7",
   "metadata": {},
   "outputs": [
    {
     "data": {
      "text/plain": [
       "['111000100010101000111000000011101010001000000011101011100011101010001110111011101010001110111011100011101010111000111000000000000000100011101000111011101110111010001011101110111011100010001110111000000000000000111000100010101000111000000011101010001000000011101011100011101010001110111011101010001110111011100011101010111000111000000000000000100011101000111011101110111010001011101110111011100010001110111000000000000000111000100010101000111000000011101010001000000011101011100011101010001110111011101010001110111011100011101010111000111000000000000000100011101000111011101110111010001011101110111011100010001110111',\n",
       " array([[0.        , 0.        , 0.        , ..., 0.70699947, 0.70699989,\n",
       "         0.70699999]])]"
      ]
     },
     "execution_count": 37,
     "metadata": {},
     "output_type": "execute_result"
    }
   ],
   "source": [
    "signal = [msg_cw, chirps]\n",
    "signal"
   ]
  },
  {
   "cell_type": "markdown",
   "id": "4208da0a-b937-4075-bb8f-b4d99043654b",
   "metadata": {},
   "source": [
    "## 4) Save File\n",
    "Let's save the resulting .CSV and .WAV files with mnemonic filenames that include callsign and grid square."
   ]
  }
 ],
 "metadata": {
  "kernelspec": {
   "display_name": "Python 3 (ipykernel)",
   "language": "python",
   "name": "python3"
  },
  "language_info": {
   "codemirror_mode": {
    "name": "ipython",
    "version": 3
   },
   "file_extension": ".py",
   "mimetype": "text/x-python",
   "name": "python",
   "nbconvert_exporter": "python",
   "pygments_lexer": "ipython3",
   "version": "3.11.2"
  },
  "widgets": {
   "application/vnd.jupyter.widget-state+json": {
    "state": {},
    "version_major": 2,
    "version_minor": 0
   }
  }
 },
 "nbformat": 4,
 "nbformat_minor": 5
}
