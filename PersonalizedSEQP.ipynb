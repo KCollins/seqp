{
 "cells": [
  {
   "cell_type": "markdown",
   "id": "b9cbf093-246b-45cf-8f38-a2c0b5e978cd",
   "metadata": {},
   "source": [
    "# SEQP Personalized Signal Generator\n",
    "This is a Jupyter notebook designed to create a personalized version of the SEQP test signal. "
   ]
  },
  {
   "cell_type": "code",
   "execution_count": 11,
   "id": "1bd37be2-0a5e-47c5-bb9b-3c62fdb11c1f",
   "metadata": {},
   "outputs": [],
   "source": [
    "call = 'KD8OXT'\n",
    "maidenhead = 'EN91em'"
   ]
  },
  {
   "cell_type": "markdown",
   "id": "355428c9-d45d-428d-adf6-0dacf7fc71c5",
   "metadata": {},
   "source": [
    "### 0) Housekeeping: Import packages and set audio parameters"
   ]
  },
  {
   "cell_type": "code",
   "execution_count": 12,
   "id": "1b0f5102-878f-40bf-be90-75c538f6a1de",
   "metadata": {},
   "outputs": [],
   "source": [
    "fs = 48000;                   # samples per second\n",
    "dt = 1/fs;                    # seconds per sample\n",
    "wpm = 20"
   ]
  },
  {
   "cell_type": "code",
   "execution_count": null,
   "id": "47cb1bca-b135-42a5-82ed-1ce44deab9e6",
   "metadata": {},
   "outputs": [],
   "source": [
    "import morse_talk as mtalk"
   ]
  },
  {
   "cell_type": "markdown",
   "id": "14f854f5-d704-4f78-aa43-ccf761321401",
   "metadata": {},
   "source": [
    "## 1) Generate pseudorandom signal from user's callsign and grid square.\n",
    "Let's generate two seconds of static - one from the callsign, one from the grid square. We'll stick them together."
   ]
  },
  {
   "cell_type": "code",
   "execution_count": 13,
   "id": "3de9268d-25b9-471e-b9b8-2645519ff7f1",
   "metadata": {},
   "outputs": [
    {
     "data": {
      "text/plain": [
       "2818532221190763955"
      ]
     },
     "execution_count": 13,
     "metadata": {},
     "output_type": "execute_result"
    }
   ],
   "source": [
    "import random\n",
    "hash(call)"
   ]
  },
  {
   "cell_type": "code",
   "execution_count": 14,
   "id": "0249a869-9299-4207-963a-a3397f770e11",
   "metadata": {},
   "outputs": [
    {
     "data": {
      "text/plain": [
       "<random.SystemRandom at 0x7fffdfa38f50>"
      ]
     },
     "execution_count": 14,
     "metadata": {},
     "output_type": "execute_result"
    }
   ],
   "source": [
    "random.seed(hash(call))\n",
    "random.SystemRandom(call)\n"
   ]
  },
  {
   "cell_type": "code",
   "execution_count": 50,
   "id": "17ab678e-d99e-4bde-a49a-589a23ff2e30",
   "metadata": {},
   "outputs": [
    {
     "ename": "TypeError",
     "evalue": "Random.random() takes no arguments (2 given)",
     "output_type": "error",
     "traceback": [
      "\u001b[0;31m---------------------------------------------------------------------------\u001b[0m",
      "\u001b[0;31mTypeError\u001b[0m                                 Traceback (most recent call last)",
      "Cell \u001b[0;32mIn [50], line 2\u001b[0m\n\u001b[1;32m      1\u001b[0m prn \u001b[38;5;241m=\u001b[39m random\u001b[38;5;241m.\u001b[39mrandrange(\u001b[38;5;241m0\u001b[39m, \u001b[38;5;241m10\u001b[39m)\n\u001b[0;32m----> 2\u001b[0m random\u001b[38;5;241m.\u001b[39mrandom(\u001b[38;5;241m0\u001b[39m, \u001b[38;5;241m1\u001b[39m)\n",
      "\u001b[0;31mTypeError\u001b[0m: Random.random() takes no arguments (2 given)"
     ]
    }
   ],
   "source": [
    "prn = random.randrange(0, 10)\n",
    "random.random(0, 1) "
   ]
  },
  {
   "cell_type": "code",
   "execution_count": 62,
   "id": "4a0a0b7a-820e-4b58-b666-883218691c1d",
   "metadata": {},
   "outputs": [
    {
     "data": {
      "text/plain": [
       "array([[8.81013109e-01, 6.57506054e-01, 8.88149875e-01, 9.12192843e-01,\n",
       "        1.16365059e-01, 7.55344269e-02, 7.48162088e-01, 1.93252081e-02,\n",
       "        1.48686191e-01, 9.10101586e-01, 4.98485282e-01, 3.52488176e-01,\n",
       "        2.91394084e-01, 9.83755158e-01, 9.14892854e-01, 1.16950418e-01,\n",
       "        3.07383274e-01, 3.06369497e-01, 2.25250465e-01, 4.03079686e-01,\n",
       "        6.19992548e-01, 9.64067239e-01, 2.07355603e-02, 6.16132710e-01,\n",
       "        5.04715791e-01, 3.82473314e-01, 8.28293081e-01, 7.11739895e-01,\n",
       "        9.40895213e-01, 7.60027036e-01, 4.41123320e-01, 4.07797983e-01,\n",
       "        7.71469643e-01, 5.20558167e-01, 4.42534162e-01, 2.78616993e-02,\n",
       "        1.55456437e-01, 8.15839920e-01, 6.21226417e-01, 3.38332338e-01,\n",
       "        1.40208282e-02, 4.46286586e-01, 1.21467180e-01, 4.46014236e-01,\n",
       "        5.63524348e-01, 4.83597158e-01, 9.27581947e-01, 2.39103023e-01,\n",
       "        5.14196171e-01, 9.26079329e-01, 3.98907252e-01, 9.61482407e-01,\n",
       "        3.93919898e-01, 7.21053230e-01, 3.42334656e-01, 9.35443727e-01,\n",
       "        2.25166883e-02, 3.68944472e-01, 4.75587633e-02, 8.66433362e-01,\n",
       "        8.88769157e-01, 2.71479401e-01, 8.78468182e-01, 3.48320733e-01,\n",
       "        5.05058911e-01, 3.95726758e-01, 5.88686346e-01, 5.47730308e-01,\n",
       "        4.48909554e-01, 4.53906771e-01, 7.83116821e-01, 5.36509265e-01,\n",
       "        4.58331792e-01, 4.31724837e-01, 7.38174913e-01, 8.57125440e-02,\n",
       "        2.16910549e-01, 1.56521657e-01, 3.04866816e-01, 3.79757674e-02,\n",
       "        1.16650021e-01, 3.17033393e-01, 6.60041504e-01, 2.89321467e-01,\n",
       "        8.22892348e-01, 9.91976676e-01, 3.54222195e-01, 4.50909719e-02,\n",
       "        4.34319062e-01, 5.22651700e-01, 1.70658820e-01, 6.68754911e-02,\n",
       "        4.95138237e-01, 2.85289674e-01, 6.37516777e-01, 7.31227011e-01,\n",
       "        3.65382872e-01, 8.67835779e-02, 7.45936612e-02, 5.29262338e-01,\n",
       "        1.81111539e-02, 7.95661024e-01, 7.43526259e-01, 7.61585726e-01,\n",
       "        5.89974634e-01, 2.56235449e-01, 2.91336287e-01, 1.57605831e-01,\n",
       "        7.12359518e-02, 8.90970605e-01, 8.61619160e-01, 3.85460458e-01,\n",
       "        5.64484145e-01, 6.62238792e-01, 5.23430203e-01, 9.00059155e-01,\n",
       "        2.94097841e-01, 3.29646508e-01, 9.37528745e-01, 1.43906907e-01,\n",
       "        9.40364374e-01, 8.85838581e-01, 7.05330148e-01, 3.72355489e-01,\n",
       "        5.70026997e-01, 1.16615200e-01, 3.47326568e-01, 8.93189307e-01,\n",
       "        3.36370703e-01, 5.45719121e-01, 9.00381310e-01, 2.67760374e-02,\n",
       "        4.73301615e-01, 4.53350983e-01, 3.71720447e-01, 9.34792714e-01,\n",
       "        5.83680078e-01, 4.90711506e-01, 4.97989189e-01, 7.51390210e-01,\n",
       "        5.51767756e-01, 8.49334746e-01, 6.25961105e-01, 4.24915229e-01,\n",
       "        3.13581590e-01, 1.78156421e-01, 4.91558709e-03, 8.09157898e-01,\n",
       "        7.64206185e-01, 1.46969090e-01, 2.35835682e-01, 9.87990778e-01,\n",
       "        2.27125947e-01, 8.79231787e-01, 6.11004957e-01, 8.42651570e-01,\n",
       "        4.96172113e-01, 9.81462907e-01, 2.22306673e-03, 9.34867212e-01,\n",
       "        8.01046437e-01, 1.39679336e-01, 1.76673569e-01, 1.38571459e-01,\n",
       "        9.45200736e-01, 7.12455322e-01, 6.42471183e-02, 6.74493667e-01,\n",
       "        4.15955428e-01, 8.38030369e-01, 4.83281484e-01, 4.92463364e-01,\n",
       "        6.97728421e-01, 2.48668710e-01, 2.38299716e-01, 4.54407153e-01,\n",
       "        3.02202822e-01, 3.73902748e-01, 6.11558607e-01, 2.41746103e-02,\n",
       "        6.74145528e-01, 8.31402607e-01, 4.22638955e-01, 8.61333534e-01,\n",
       "        5.85661755e-01, 9.10059930e-01, 1.54859739e-01, 7.99877420e-01,\n",
       "        9.63905048e-01, 6.51966570e-01, 3.64070482e-01, 2.44540408e-01,\n",
       "        3.70643235e-01, 8.05827264e-02, 9.02519443e-01, 6.07073743e-02,\n",
       "        3.10473397e-01, 1.51278606e-01, 5.60594710e-01, 5.99217590e-01,\n",
       "        5.81369899e-02, 6.07317939e-01, 7.51478762e-01, 7.06164469e-01,\n",
       "        5.08100726e-01, 1.09239830e-01, 9.31899571e-01, 7.48012498e-01,\n",
       "        6.43339951e-01, 4.98896141e-01, 6.59606930e-01, 4.74303024e-01,\n",
       "        8.16318661e-01, 9.29857373e-01, 2.06015494e-02, 9.88203408e-01,\n",
       "        9.84901792e-01, 2.49267232e-01, 8.57611843e-01, 9.45629423e-01,\n",
       "        4.28689714e-01, 6.63402700e-01, 4.92846761e-01, 5.50894532e-01,\n",
       "        6.80680236e-01, 2.12578108e-01, 6.36101597e-02, 1.98687695e-01,\n",
       "        5.03299580e-01, 7.04974386e-01, 5.49814599e-02, 8.67346439e-01,\n",
       "        1.65739569e-01, 2.24590125e-01, 4.29391869e-01, 7.79769292e-01,\n",
       "        1.39730834e-01, 3.38724943e-01, 6.12518480e-01, 7.47926560e-01,\n",
       "        3.97677156e-01, 3.38023205e-02, 8.22344990e-01, 2.11776849e-01,\n",
       "        7.84693103e-01, 2.38745875e-01, 1.59453485e-02, 2.69434931e-01,\n",
       "        9.92500166e-01, 1.12715206e-01, 4.29192723e-01, 5.84044212e-01,\n",
       "        4.91261764e-01, 6.68463990e-01, 4.58546449e-04, 2.46556865e-02,\n",
       "        4.92432028e-01, 9.72398160e-01, 3.11961185e-02, 8.52392759e-01,\n",
       "        6.08708642e-01, 6.81193417e-01, 2.66460988e-01, 5.34003121e-02,\n",
       "        6.64439704e-01, 6.26287456e-01, 1.49008715e-02, 5.85222622e-01,\n",
       "        6.55809106e-02, 1.76338472e-01, 1.53001868e-01, 5.43732932e-01,\n",
       "        9.07267333e-01, 9.14056221e-01, 3.20742595e-01, 1.57221760e-01,\n",
       "        4.63267530e-01, 3.73334850e-03, 5.82763335e-01, 8.72473498e-01,\n",
       "        3.25997678e-01, 9.93694796e-01, 5.99627709e-01, 5.76724651e-01,\n",
       "        7.71756865e-01, 7.91222670e-01, 7.50054899e-01, 9.10345823e-01,\n",
       "        7.79434939e-01, 6.53282920e-01, 2.60086456e-01, 5.06218319e-01,\n",
       "        4.68335122e-02, 1.80061836e-01, 8.94830183e-01, 3.80337830e-01,\n",
       "        3.89424320e-01, 6.59832624e-01, 1.78857792e-01, 8.17787217e-02]])"
      ]
     },
     "execution_count": 62,
     "metadata": {},
     "output_type": "execute_result"
    }
   ],
   "source": [
    "import numpy as np\n",
    "random.seed(hash(call))\n",
    "np.random.rand(1,300)"
   ]
  },
  {
   "cell_type": "markdown",
   "id": "7a1b6e00-7b3d-4d94-a9fc-d8f7bb63da3d",
   "metadata": {},
   "source": [
    "## 2) Generate Morse signal from user's callsign. \n",
    "This signal is at 20 WPM. All callsigns must fit in the same time block... and should be received by RBN."
   ]
  },
  {
   "cell_type": "code",
   "execution_count": 15,
   "id": "f28cf3af-8a9d-4c33-9448-d8a0ab7b4e6e",
   "metadata": {},
   "outputs": [
    {
     "name": "stdout",
     "output_type": "stream",
     "text": [
      "TEST de KD8OXT   EN91em   TEST de KD8OXT   EN91em   TEST de KD8OXT   EN91em   \n"
     ]
    }
   ],
   "source": [
    "msg = 'TEST de ' + call + \"   \" + maidenhead+ \"   \"\n",
    "msg = msg * 3\n",
    "print(msg)"
   ]
  },
  {
   "cell_type": "markdown",
   "id": "cf24e262-654c-4ff7-9980-1798329b8a7d",
   "metadata": {},
   "source": [
    "Let's convert the signal to an on-off signal:"
   ]
  },
  {
   "cell_type": "code",
   "execution_count": 24,
   "id": "768eb3f6-f7ac-4801-8c15-9aa33a983f8a",
   "metadata": {},
   "outputs": [
    {
     "data": {
      "text/plain": [
       "'111000100010101000111000000011101010001000000011101011100011101010001110111011101010001110111011100011101010111000111000000000000000100011101000111011101110111010001011101110111011100010001110111000000000000000111000100010101000111000000011101010001000000011101011100011101010001110111011101010001110111011100011101010111000111000000000000000100011101000111011101110111010001011101110111011100010001110111000000000000000111000100010101000111000000011101010001000000011101011100011101010001110111011101010001110111011100011101010111000111000000000000000100011101000111011101110111010001011101110111011100010001110111'"
      ]
     },
     "execution_count": 24,
     "metadata": {},
     "output_type": "execute_result"
    }
   ],
   "source": [
    "msg_cw = mtalk.encode(msg, encoding_type='binary')\n",
    "msg_cw"
   ]
  },
  {
   "cell_type": "code",
   "execution_count": 25,
   "id": "25fac2ec-b060-41a9-aa7c-6e20e59da3ad",
   "metadata": {},
   "outputs": [
    {
     "data": {
      "text/plain": [
       "615"
      ]
     },
     "execution_count": 25,
     "metadata": {},
     "output_type": "execute_result"
    }
   ],
   "source": [
    "len(msg_cw)"
   ]
  },
  {
   "cell_type": "markdown",
   "id": "f19c4c39-d66b-400b-b940-df6c88ac1417",
   "metadata": {},
   "source": [
    "We have to make sure this fits into a standard time frame, so let's prallocate an array of desired length, convert it to a list, and then add it in:"
   ]
  },
  {
   "cell_type": "markdown",
   "id": "c5178466-7944-40b8-8305-7df4542dfd2e",
   "metadata": {},
   "source": [
    "## 3) Concatenate PRN, CW, and radar chirps"
   ]
  },
  {
   "cell_type": "markdown",
   "id": "69d76bfb-92dd-418e-b913-034d2466a393",
   "metadata": {},
   "source": [
    "Now we add in the lightsaber noises. Er, chirps. \n",
    "\n",
    "Chirps from [![DOI](https://zenodo.org/badge/DOI/10.5281/zenodo.7659302.svg)](https://doi.org/10.5281/zenodo.7659302)."
   ]
  },
  {
   "cell_type": "code",
   "execution_count": 33,
   "id": "84a96331-21fe-40db-9e90-690a61bc3e19",
   "metadata": {},
   "outputs": [
    {
     "data": {
      "text/plain": [
       "array([[0.        , 0.        , 0.        , ..., 0.70699947, 0.70699989,\n",
       "        0.70699999]])"
      ]
     },
     "execution_count": 33,
     "metadata": {},
     "output_type": "execute_result"
    }
   ],
   "source": [
    "import pandas as pd\n",
    "data = pd.read_csv('https://zenodo.org/record/7659302/files/seqp-test.csv?download=1')\n",
    "chirps = data.to_numpy().transpose()\n",
    "chirps"
   ]
  },
  {
   "cell_type": "code",
   "execution_count": 37,
   "id": "75376352-adc9-42a2-b1d2-97d6a95e8cd7",
   "metadata": {},
   "outputs": [
    {
     "data": {
      "text/plain": [
       "['111000100010101000111000000011101010001000000011101011100011101010001110111011101010001110111011100011101010111000111000000000000000100011101000111011101110111010001011101110111011100010001110111000000000000000111000100010101000111000000011101010001000000011101011100011101010001110111011101010001110111011100011101010111000111000000000000000100011101000111011101110111010001011101110111011100010001110111000000000000000111000100010101000111000000011101010001000000011101011100011101010001110111011101010001110111011100011101010111000111000000000000000100011101000111011101110111010001011101110111011100010001110111',\n",
       " array([[0.        , 0.        , 0.        , ..., 0.70699947, 0.70699989,\n",
       "         0.70699999]])]"
      ]
     },
     "execution_count": 37,
     "metadata": {},
     "output_type": "execute_result"
    }
   ],
   "source": [
    "signal = [msg_cw, chirps]\n",
    "signal"
   ]
  },
  {
   "cell_type": "markdown",
   "id": "4208da0a-b937-4075-bb8f-b4d99043654b",
   "metadata": {},
   "source": [
    "## 4) Save File\n",
    "Let's save the resulting .CSV and .WAV files with mnemonic filenames that include callsign and grid square."
   ]
  }
 ],
 "metadata": {
  "kernelspec": {
   "display_name": "Python 3 (ipykernel)",
   "language": "python",
   "name": "python3"
  },
  "language_info": {
   "codemirror_mode": {
    "name": "ipython",
    "version": 3
   },
   "file_extension": ".py",
   "mimetype": "text/x-python",
   "name": "python",
   "nbconvert_exporter": "python",
   "pygments_lexer": "ipython3",
   "version": "3.9.1"
  },
  "widgets": {
   "application/vnd.jupyter.widget-state+json": {
    "state": {},
    "version_major": 2,
    "version_minor": 0
   }
  }
 },
 "nbformat": 4,
 "nbformat_minor": 5
}
