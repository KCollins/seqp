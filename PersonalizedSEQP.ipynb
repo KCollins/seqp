{
 "cells": [
  {
   "cell_type": "markdown",
   "id": "b9cbf093-246b-45cf-8f38-a2c0b5e978cd",
   "metadata": {},
   "source": [
    "# SEQP Personalized Signal Generator\n",
    "This is a Jupyter notebook designed to create a personalized version of the SEQP test signal. "
   ]
  },
  {
   "cell_type": "code",
   "execution_count": 1,
   "id": "1bd37be2-0a5e-47c5-bb9b-3c62fdb11c1f",
   "metadata": {},
   "outputs": [],
   "source": [
    "call = 'KD8OXT'\n",
    "maidenhead = 'EN91em'"
   ]
  },
  {
   "cell_type": "markdown",
   "id": "355428c9-d45d-428d-adf6-0dacf7fc71c5",
   "metadata": {},
   "source": [
    "### 0) Housekeeping: Import packages and set audio parameters"
   ]
  },
  {
   "cell_type": "code",
   "execution_count": 2,
   "id": "1b0f5102-878f-40bf-be90-75c538f6a1de",
   "metadata": {},
   "outputs": [],
   "source": [
    "fs = 48000;                   # samples per second\n",
    "dt = 1/fs;                    # seconds per sample\n",
    "wpm = 20"
   ]
  },
  {
   "cell_type": "markdown",
   "id": "14f854f5-d704-4f78-aa43-ccf761321401",
   "metadata": {},
   "source": [
    "## 1) Generate pseudorandom signal from user's callsign and grid square.\n",
    "Let's generate two seconds of static - one from the callsign, one from the grid square. We'll stick them together."
   ]
  },
  {
   "cell_type": "code",
   "execution_count": 3,
   "id": "3de9268d-25b9-471e-b9b8-2645519ff7f1",
   "metadata": {},
   "outputs": [
    {
     "data": {
      "text/plain": [
       "-5021921347211812440"
      ]
     },
     "execution_count": 3,
     "metadata": {},
     "output_type": "execute_result"
    }
   ],
   "source": [
    "import random\n",
    "hash(call)"
   ]
  },
  {
   "cell_type": "code",
   "execution_count": 4,
   "id": "0249a869-9299-4207-963a-a3397f770e11",
   "metadata": {},
   "outputs": [
    {
     "data": {
      "text/plain": [
       "<random.SystemRandom at 0x7ffff7ebc8c0>"
      ]
     },
     "execution_count": 4,
     "metadata": {},
     "output_type": "execute_result"
    }
   ],
   "source": [
    "random.seed(hash(call))\n",
    "random.SystemRandom(call)\n"
   ]
  },
  {
   "cell_type": "markdown",
   "id": "7a1b6e00-7b3d-4d94-a9fc-d8f7bb63da3d",
   "metadata": {},
   "source": [
    "## 2) Generate Morse signal from user's callsign. \n",
    "This signal is at 20 WPM. All callsigns must fit in the same time block... and should be received by RBN."
   ]
  },
  {
   "cell_type": "code",
   "execution_count": 6,
   "id": "f28cf3af-8a9d-4c33-9448-d8a0ab7b4e6e",
   "metadata": {},
   "outputs": [
    {
     "name": "stdout",
     "output_type": "stream",
     "text": [
      "TEST de KD8OXT   EN91em   TEST de KD8OXT   EN91em   TEST de KD8OXT   EN91em   \n"
     ]
    }
   ],
   "source": [
    "msg = 'TEST de ' + call + \"   \" + maidenhead+ \"   \"\n",
    "msg = msg * 3\n",
    "print(msg)"
   ]
  },
  {
   "cell_type": "markdown",
   "id": "cf24e262-654c-4ff7-9980-1798329b8a7d",
   "metadata": {},
   "source": [
    "Let's convert the signal to an on-off signal:"
   ]
  },
  {
   "cell_type": "code",
   "execution_count": 14,
   "id": "74bdc4d1-317a-4a5e-a313-d72ceb148047",
   "metadata": {},
   "outputs": [
    {
     "ename": "ImportError",
     "evalue": "this platform is not supported: ('failed to acquire X connection: Can\\'t connect to display \"localhost:0.0\": [Errno 111] Connection refused', DisplayConnectionError('localhost:0.0', '[Errno 111] Connection refused'))\n\nTry one of the following resolutions:\n\n * Please make sure that you have an X server running, and that the DISPLAY environment variable is set correctly",
     "output_type": "error",
     "traceback": [
      "\u001b[0;31m---------------------------------------------------------------------------\u001b[0m",
      "\u001b[0;31mImportError\u001b[0m                               Traceback (most recent call last)",
      "Cell \u001b[0;32mIn [14], line 1\u001b[0m\n\u001b[0;32m----> 1\u001b[0m \u001b[38;5;28;01mfrom\u001b[39;00m \u001b[38;5;21;01mfunny_morse\u001b[39;00m \u001b[38;5;28;01mimport\u001b[39;00m \u001b[38;5;241m*\u001b[39m\n\u001b[1;32m      3\u001b[0m \u001b[38;5;66;03m# import morse\u001b[39;00m\n\u001b[1;32m      4\u001b[0m \u001b[38;5;66;03m# from morse import *\u001b[39;00m\n\u001b[1;32m      5\u001b[0m \u001b[38;5;66;03m# vars(morse)\u001b[39;00m\n\u001b[1;32m      6\u001b[0m \u001b[38;5;66;03m# msg_morse = morse.stringToMorse('test')                      # convert from string to CW characters\u001b[39;00m\n\u001b[1;32m      8\u001b[0m msg_morse \u001b[38;5;241m=\u001b[39m morse\u001b[38;5;241m.\u001b[39mstring_to_morse(\u001b[38;5;124m'\u001b[39m\u001b[38;5;124mhi there\u001b[39m\u001b[38;5;124m'\u001b[39m)\n",
      "File \u001b[0;32m~/.local/lib/python3.9/site-packages/funny_morse/__init__.py:37\u001b[0m\n\u001b[1;32m     34\u001b[0m sys\u001b[38;5;241m.\u001b[39mpath\u001b[38;5;241m.\u001b[39minsert(\u001b[38;5;241m0\u001b[39m, os\u001b[38;5;241m.\u001b[39mpath\u001b[38;5;241m.\u001b[39mdirname(os\u001b[38;5;241m.\u001b[39mpath\u001b[38;5;241m.\u001b[39mabspath(\u001b[38;5;18m__file__\u001b[39m)))\n\u001b[1;32m     36\u001b[0m \u001b[38;5;28;01mimport\u001b[39;00m \u001b[38;5;21;01mmorse\u001b[39;00m\n\u001b[0;32m---> 37\u001b[0m \u001b[38;5;28;01mimport\u001b[39;00m \u001b[38;5;21;01mplay\u001b[39;00m\u001b[38;5;241m,\u001b[39m \u001b[38;5;21;01mshow\u001b[39;00m\u001b[38;5;241m,\u001b[39m \u001b[38;5;21;01mkey\u001b[39;00m\u001b[38;5;241m,\u001b[39m \u001b[38;5;21;01mpyboard\u001b[39;00m\n\u001b[1;32m     38\u001b[0m \u001b[38;5;28;01mfrom\u001b[39;00m \u001b[38;5;21;01mparallel\u001b[39;00m \u001b[38;5;28;01mimport\u001b[39;00m Parallel\n\u001b[1;32m     40\u001b[0m sys\u001b[38;5;241m.\u001b[39mpath\u001b[38;5;241m.\u001b[39mpop(\u001b[38;5;241m0\u001b[39m)\n",
      "File \u001b[0;32m~/.local/lib/python3.9/site-packages/funny_morse/key.py:2\u001b[0m\n\u001b[1;32m      1\u001b[0m \u001b[38;5;28;01mimport\u001b[39;00m \u001b[38;5;21;01mtime\u001b[39;00m\n\u001b[0;32m----> 2\u001b[0m \u001b[38;5;28;01mfrom\u001b[39;00m \u001b[38;5;21;01mpynput\u001b[39;00m \u001b[38;5;28;01mimport\u001b[39;00m keyboard\n\u001b[1;32m      4\u001b[0m \u001b[38;5;28;01mimport\u001b[39;00m \u001b[38;5;21;01mmorse\u001b[39;00m\n\u001b[1;32m      6\u001b[0m WPM \u001b[38;5;241m=\u001b[39m morse\u001b[38;5;241m.\u001b[39mWPM\n",
      "File \u001b[0;32m~/.local/lib/python3.9/site-packages/pynput/__init__.py:40\u001b[0m\n\u001b[1;32m     34\u001b[0m     \u001b[38;5;28;01mimport\u001b[39;00m \u001b[38;5;21;01mlogging\u001b[39;00m\n\u001b[1;32m     35\u001b[0m     \u001b[38;5;28;01mreturn\u001b[39;00m logging\u001b[38;5;241m.\u001b[39mgetLogger(\u001b[38;5;124m'\u001b[39m\u001b[38;5;132;01m{}\u001b[39;00m\u001b[38;5;124m.\u001b[39m\u001b[38;5;132;01m{}\u001b[39;00m\u001b[38;5;124m'\u001b[39m\u001b[38;5;241m.\u001b[39mformat(\n\u001b[1;32m     36\u001b[0m         \u001b[38;5;124m'\u001b[39m\u001b[38;5;124m.\u001b[39m\u001b[38;5;124m'\u001b[39m\u001b[38;5;241m.\u001b[39mjoin(\u001b[38;5;28mcls\u001b[39m\u001b[38;5;241m.\u001b[39m\u001b[38;5;18m__module__\u001b[39m\u001b[38;5;241m.\u001b[39msplit(\u001b[38;5;124m'\u001b[39m\u001b[38;5;124m.\u001b[39m\u001b[38;5;124m'\u001b[39m, \u001b[38;5;241m2\u001b[39m)[:\u001b[38;5;241m2\u001b[39m]),\n\u001b[1;32m     37\u001b[0m         \u001b[38;5;28mcls\u001b[39m\u001b[38;5;241m.\u001b[39m\u001b[38;5;18m__name__\u001b[39m))\n\u001b[0;32m---> 40\u001b[0m \u001b[38;5;28;01mfrom\u001b[39;00m \u001b[38;5;21;01m.\u001b[39;00m \u001b[38;5;28;01mimport\u001b[39;00m keyboard\n\u001b[1;32m     41\u001b[0m \u001b[38;5;28;01mfrom\u001b[39;00m \u001b[38;5;21;01m.\u001b[39;00m \u001b[38;5;28;01mimport\u001b[39;00m mouse\n",
      "File \u001b[0;32m~/.local/lib/python3.9/site-packages/pynput/keyboard/__init__.py:31\u001b[0m\n\u001b[1;32m     26\u001b[0m \u001b[38;5;28;01mimport\u001b[39;00m \u001b[38;5;21;01mitertools\u001b[39;00m\n\u001b[1;32m     28\u001b[0m \u001b[38;5;28;01mfrom\u001b[39;00m \u001b[38;5;21;01mpynput\u001b[39;00m\u001b[38;5;21;01m.\u001b[39;00m\u001b[38;5;21;01m_util\u001b[39;00m \u001b[38;5;28;01mimport\u001b[39;00m backend, Events\n\u001b[0;32m---> 31\u001b[0m backend \u001b[38;5;241m=\u001b[39m \u001b[43mbackend\u001b[49m\u001b[43m(\u001b[49m\u001b[38;5;18;43m__name__\u001b[39;49m\u001b[43m)\u001b[49m\n\u001b[1;32m     32\u001b[0m KeyCode \u001b[38;5;241m=\u001b[39m backend\u001b[38;5;241m.\u001b[39mKeyCode\n\u001b[1;32m     33\u001b[0m Key \u001b[38;5;241m=\u001b[39m backend\u001b[38;5;241m.\u001b[39mKey\n",
      "File \u001b[0;32m~/.local/lib/python3.9/site-packages/pynput/_util/__init__.py:76\u001b[0m, in \u001b[0;36mbackend\u001b[0;34m(package)\u001b[0m\n\u001b[1;32m     73\u001b[0m         \u001b[38;5;28;01mif\u001b[39;00m module \u001b[38;5;129;01min\u001b[39;00m RESOLUTIONS:\n\u001b[1;32m     74\u001b[0m             resolutions\u001b[38;5;241m.\u001b[39mappend(RESOLUTIONS[module])\n\u001b[0;32m---> 76\u001b[0m \u001b[38;5;28;01mraise\u001b[39;00m \u001b[38;5;167;01mImportError\u001b[39;00m(\u001b[38;5;124m'\u001b[39m\u001b[38;5;124mthis platform is not supported: \u001b[39m\u001b[38;5;132;01m{}\u001b[39;00m\u001b[38;5;124m'\u001b[39m\u001b[38;5;241m.\u001b[39mformat(\n\u001b[1;32m     77\u001b[0m     \u001b[38;5;124m'\u001b[39m\u001b[38;5;124m; \u001b[39m\u001b[38;5;124m'\u001b[39m\u001b[38;5;241m.\u001b[39mjoin(\u001b[38;5;28mstr\u001b[39m(e) \u001b[38;5;28;01mfor\u001b[39;00m e \u001b[38;5;129;01min\u001b[39;00m errors)) \u001b[38;5;241m+\u001b[39m (\u001b[38;5;124m'\u001b[39m\u001b[38;5;130;01m\\n\u001b[39;00m\u001b[38;5;130;01m\\n\u001b[39;00m\u001b[38;5;124m'\u001b[39m\n\u001b[1;32m     78\u001b[0m         \u001b[38;5;124m'\u001b[39m\u001b[38;5;124mTry one of the following resolutions:\u001b[39m\u001b[38;5;130;01m\\n\u001b[39;00m\u001b[38;5;130;01m\\n\u001b[39;00m\u001b[38;5;124m'\u001b[39m\n\u001b[1;32m     79\u001b[0m         \u001b[38;5;241m+\u001b[39m \u001b[38;5;124m'\u001b[39m\u001b[38;5;130;01m\\n\u001b[39;00m\u001b[38;5;130;01m\\n\u001b[39;00m\u001b[38;5;124m'\u001b[39m\u001b[38;5;241m.\u001b[39mjoin(\n\u001b[1;32m     80\u001b[0m             \u001b[38;5;124m'\u001b[39m\u001b[38;5;124m * \u001b[39m\u001b[38;5;132;01m{}\u001b[39;00m\u001b[38;5;124m'\u001b[39m\u001b[38;5;241m.\u001b[39mformat(s)\n\u001b[1;32m     81\u001b[0m             \u001b[38;5;28;01mfor\u001b[39;00m s \u001b[38;5;129;01min\u001b[39;00m resolutions))\n\u001b[1;32m     82\u001b[0m         \u001b[38;5;28;01mif\u001b[39;00m resolutions \u001b[38;5;28;01melse\u001b[39;00m \u001b[38;5;124m'\u001b[39m\u001b[38;5;124m'\u001b[39m)\n",
      "\u001b[0;31mImportError\u001b[0m: this platform is not supported: ('failed to acquire X connection: Can\\'t connect to display \"localhost:0.0\": [Errno 111] Connection refused', DisplayConnectionError('localhost:0.0', '[Errno 111] Connection refused'))\n\nTry one of the following resolutions:\n\n * Please make sure that you have an X server running, and that the DISPLAY environment variable is set correctly"
     ]
    }
   ],
   "source": [
    "from funny_morse import *\n",
    "\n",
    "# import morse\n",
    "# from morse import *\n",
    "# vars(morse)\n",
    "# msg_morse = morse.stringToMorse('test')                      # convert from string to CW characters\n",
    "\n",
    "msg_morse = morse.string_to_morse('hi there')\n",
    "\n",
    "sps = 400\n",
    "wpm = 20\n",
    "# fs = 2800\n",
    "\n",
    "# msg_array = morse.morseToBoolArr(msg_morse, sps, wpm)    # convert from CW characters to Boolean array\n",
    "\n",
    "# print(msg_array)\n",
    "\n",
    "# msg_cw = msg_array.astype(int)\n",
    "# len(msg_cw)"
   ]
  },
  {
   "cell_type": "code",
   "execution_count": 8,
   "id": "768eb3f6-f7ac-4801-8c15-9aa33a983f8a",
   "metadata": {},
   "outputs": [
    {
     "ename": "SyntaxError",
     "evalue": "invalid syntax (983197306.py, line 1)",
     "output_type": "error",
     "traceback": [
      "\u001b[0;36m  Cell \u001b[0;32mIn [9], line 1\u001b[0;36m\u001b[0m\n\u001b[0;31m    python funny_morse --wpm 15 --fs 15 -p hello\u001b[0m\n\u001b[0m           ^\u001b[0m\n\u001b[0;31mSyntaxError\u001b[0m\u001b[0;31m:\u001b[0m invalid syntax\n"
     ]
    }
   ],
   "source": [
    "funny_morse --wpm 15 --fs 15 -p hello"
   ]
  },
  {
   "cell_type": "code",
   "execution_count": 13,
   "id": "25fac2ec-b060-41a9-aa7c-6e20e59da3ad",
   "metadata": {},
   "outputs": [],
   "source": [
    "# from morse import *\n",
    "# vars(morse)\n",
    "\n",
    "# window(\"show\", wpm=5, fs=None)"
   ]
  },
  {
   "cell_type": "markdown",
   "id": "f19c4c39-d66b-400b-b940-df6c88ac1417",
   "metadata": {},
   "source": [
    "We have to make sure this fits into a standard time frame, so let's prallocate an array of desired length and then add it in:"
   ]
  },
  {
   "cell_type": "markdown",
   "id": "c5178466-7944-40b8-8305-7df4542dfd2e",
   "metadata": {},
   "source": [
    "## 3) Concatenate PRN, CW, and radar chirps"
   ]
  },
  {
   "cell_type": "markdown",
   "id": "69d76bfb-92dd-418e-b913-034d2466a393",
   "metadata": {},
   "source": [
    "Now we add in the lightsaber noises. Er, chirps. \n",
    "\n",
    "Chirps from [![DOI](https://zenodo.org/badge/DOI/10.5281/zenodo.7659302.svg)](https://doi.org/10.5281/zenodo.7659302)."
   ]
  },
  {
   "cell_type": "code",
   "execution_count": null,
   "id": "84a96331-21fe-40db-9e90-690a61bc3e19",
   "metadata": {},
   "outputs": [],
   "source": [
    "# 'https://zenodo.org/record/7659302/files/seqp-test.csv?download=1'\n",
    "import pandas as pd\n",
    "data = pd.read_csv('https://zenodo.org/record/7659302/files/seqp-test.csv?download=1')\n",
    "data"
   ]
  },
  {
   "cell_type": "markdown",
   "id": "4208da0a-b937-4075-bb8f-b4d99043654b",
   "metadata": {},
   "source": [
    "## 4) Save File\n",
    "Let's save the resulting .CSV and .WAV files with mnemonic filenames that include callsign and grid square."
   ]
  }
 ],
 "metadata": {
  "kernelspec": {
   "display_name": "Python 3 (ipykernel)",
   "language": "python",
   "name": "python3"
  },
  "language_info": {
   "codemirror_mode": {
    "name": "ipython",
    "version": 3
   },
   "file_extension": ".py",
   "mimetype": "text/x-python",
   "name": "python",
   "nbconvert_exporter": "python",
   "pygments_lexer": "ipython3",
   "version": "3.9.1"
  },
  "widgets": {
   "application/vnd.jupyter.widget-state+json": {
    "state": {},
    "version_major": 2,
    "version_minor": 0
   }
  }
 },
 "nbformat": 4,
 "nbformat_minor": 5
}
