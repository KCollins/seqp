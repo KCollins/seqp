{
 "cells": [
  {
   "cell_type": "markdown",
   "id": "b9cbf093-246b-45cf-8f38-a2c0b5e978cd",
   "metadata": {},
   "source": [
    "# SEQP Personalized Signal Generator\n",
    "This is a Jupyter notebook designed to create a personalized version of the SEQP test signal. \n",
    "\n",
    "1) Type in your callsign and grid square below.\n",
    "2) Click \"Run All Cells.\""
   ]
  },
  {
   "cell_type": "code",
   "execution_count": 1,
   "id": "1bd37be2-0a5e-47c5-bb9b-3c62fdb11c1f",
   "metadata": {},
   "outputs": [],
   "source": [
    "call = 'KD8OXT'\n",
    "maidenhead = 'EN91em'"
   ]
  },
  {
   "cell_type": "markdown",
   "id": "355428c9-d45d-428d-adf6-0dacf7fc71c5",
   "metadata": {},
   "source": [
    "### 0) Housekeeping: Import packages and set audio parameters"
   ]
  },
  {
   "cell_type": "code",
   "execution_count": 2,
   "id": "1b0f5102-878f-40bf-be90-75c538f6a1de",
   "metadata": {},
   "outputs": [],
   "source": [
    "# fs = 48000;                   # samples per second\n",
    "# dt = 1/fs;                    # seconds per sample\n",
    "# wpm = 20"
   ]
  },
  {
   "cell_type": "code",
   "execution_count": 3,
   "id": "47cb1bca-b135-42a5-82ed-1ce44deab9e6",
   "metadata": {},
   "outputs": [],
   "source": [
    "import morse_talk as mtalk\n",
    "import pandas as pd\n",
    "import numpy as np"
   ]
  },
  {
   "cell_type": "markdown",
   "id": "14f854f5-d704-4f78-aa43-ccf761321401",
   "metadata": {},
   "source": [
    "## 1) Generate pseudorandom signal from user's callsign and grid square.\n",
    "Notion for a pseudorandom code: generate two seconds of static - one from the callsign, one from the grid square. We'll stick them together. -- Going to leave this out for the moment because python's random number seeds aren't very predictable."
   ]
  },
  {
   "cell_type": "code",
   "execution_count": 4,
   "id": "3de9268d-25b9-471e-b9b8-2645519ff7f1",
   "metadata": {},
   "outputs": [],
   "source": [
    "# import random\n",
    "# hash(call)"
   ]
  },
  {
   "cell_type": "code",
   "execution_count": 5,
   "id": "0249a869-9299-4207-963a-a3397f770e11",
   "metadata": {},
   "outputs": [],
   "source": [
    "# random.seed(hash(call))\n",
    "# random.SystemRandom(call)\n"
   ]
  },
  {
   "cell_type": "code",
   "execution_count": 6,
   "id": "17ab678e-d99e-4bde-a49a-589a23ff2e30",
   "metadata": {},
   "outputs": [],
   "source": [
    "# prn = random.randrange(0, 10)\n",
    "# random.random(0, 1) "
   ]
  },
  {
   "cell_type": "code",
   "execution_count": 7,
   "id": "4a0a0b7a-820e-4b58-b666-883218691c1d",
   "metadata": {},
   "outputs": [],
   "source": [
    "# import numpy as np\n",
    "# random.seed(hash(call))\n",
    "# np.random.rand(1,300)"
   ]
  },
  {
   "cell_type": "markdown",
   "id": "7a1b6e00-7b3d-4d94-a9fc-d8f7bb63da3d",
   "metadata": {},
   "source": [
    "## 2) Generate Morse signal from user's callsign. \n",
    "This signal is at 20 WPM. All callsigns must fit in the same time block... and should be received by RBN."
   ]
  },
  {
   "cell_type": "code",
   "execution_count": 8,
   "id": "f28cf3af-8a9d-4c33-9448-d8a0ab7b4e6e",
   "metadata": {},
   "outputs": [
    {
     "name": "stdout",
     "output_type": "stream",
     "text": [
      "TEST TEST TEST de KD8OXT KD8OXT KD8OXT  EN91em  EN91em\n"
     ]
    }
   ],
   "source": [
    "msg = 'TEST TEST TEST de ' + call + \" \" + call + \" \" + call + \"  \" + maidenhead+ \"  \" + maidenhead\n",
    "# msg = msg * 3\n",
    "print(msg)"
   ]
  },
  {
   "cell_type": "markdown",
   "id": "cf24e262-654c-4ff7-9980-1798329b8a7d",
   "metadata": {},
   "source": [
    "Let's convert the signal to an on-off signal:"
   ]
  },
  {
   "cell_type": "code",
   "execution_count": 53,
   "id": "768eb3f6-f7ac-4801-8c15-9aa33a983f8a",
   "metadata": {},
   "outputs": [],
   "source": [
    "msg_cw = mtalk.encode(msg, encoding_type='binary')\n",
    "msg_cw = np.array(list(msg_cw))\n",
    "msg_cw = pd.DataFrame(msg_cw)"
   ]
  },
  {
   "cell_type": "markdown",
   "id": "f19c4c39-d66b-400b-b940-df6c88ac1417",
   "metadata": {},
   "source": [
    "We have to make sure this fits into a standard time frame, so let's prallocate an array of desired length, convert it to a list, and then add it in:"
   ]
  },
  {
   "cell_type": "markdown",
   "id": "c5178466-7944-40b8-8305-7df4542dfd2e",
   "metadata": {},
   "source": [
    "## 3) Concatenate CW and radar chirps"
   ]
  },
  {
   "cell_type": "markdown",
   "id": "69d76bfb-92dd-418e-b913-034d2466a393",
   "metadata": {},
   "source": [
    "Now we add in the lightsaber noises. Er, chirps. \n",
    "\n",
    "Chirps from [![DOI](https://zenodo.org/badge/DOI/10.5281/zenodo.7659302.svg)](https://doi.org/10.5281/zenodo.7659302)."
   ]
  },
  {
   "cell_type": "code",
   "execution_count": 62,
   "id": "7c081a6d-55a4-400f-933a-20f09416206f",
   "metadata": {},
   "outputs": [
    {
     "name": "stdout",
     "output_type": "stream",
     "text": [
      "(477, 1)\n"
     ]
    },
    {
     "data": {
      "text/plain": [
       "(515999, 1)"
      ]
     },
     "execution_count": 62,
     "metadata": {},
     "output_type": "execute_result"
    }
   ],
   "source": [
    "print(msg_cw.shape)\n",
    "chirps.shape"
   ]
  },
  {
   "cell_type": "code",
   "execution_count": 42,
   "id": "84a96331-21fe-40db-9e90-690a61bc3e19",
   "metadata": {},
   "outputs": [
    {
     "data": {
      "text/plain": [
       "array([[0.        ],\n",
       "       [0.        ],\n",
       "       [0.        ],\n",
       "       ...,\n",
       "       [0.70699947],\n",
       "       [0.70699989],\n",
       "       [0.70699999]])"
      ]
     },
     "execution_count": 42,
     "metadata": {},
     "output_type": "execute_result"
    }
   ],
   "source": [
    "data = pd.read_csv('https://zenodo.org/record/7659302/files/seqp-test.csv?download=1')\n",
    "chirps = data.to_numpy()#.transpose()\n",
    "chirps"
   ]
  },
  {
   "cell_type": "code",
   "execution_count": 60,
   "id": "75376352-adc9-42a2-b1d2-97d6a95e8cd7",
   "metadata": {},
   "outputs": [
    {
     "data": {
      "text/plain": [
       "array([['1'],\n",
       "       ['1'],\n",
       "       ['1'],\n",
       "       ...,\n",
       "       [0.706999467635388],\n",
       "       [0.706999894841548],\n",
       "       [0.706999993427597]], dtype=object)"
      ]
     },
     "execution_count": 60,
     "metadata": {},
     "output_type": "execute_result"
    }
   ],
   "source": [
    "signal = np.concatenate((msg_cw, chirps))\n",
    "signal"
   ]
  },
  {
   "cell_type": "markdown",
   "id": "4208da0a-b937-4075-bb8f-b4d99043654b",
   "metadata": {},
   "source": [
    "## 4) Save File\n",
    "Let's save the resulting .CSV and .WAV files with mnemonic filenames that include callsign and grid square."
   ]
  },
  {
   "cell_type": "code",
   "execution_count": 61,
   "id": "3e750759-acaa-4e0c-afbf-411c2674cd86",
   "metadata": {},
   "outputs": [],
   "source": [
    "filename = 'SEQP Test Signal ' + call + ' ' + maidenhead\n",
    "df = pd.DataFrame(signal)\n",
    "df.to_csv(filename+'.csv')"
   ]
  }
 ],
 "metadata": {
  "kernelspec": {
   "display_name": "Python 3 (ipykernel)",
   "language": "python",
   "name": "python3"
  },
  "language_info": {
   "codemirror_mode": {
    "name": "ipython",
    "version": 3
   },
   "file_extension": ".py",
   "mimetype": "text/x-python",
   "name": "python",
   "nbconvert_exporter": "python",
   "pygments_lexer": "ipython3",
   "version": "3.9.1"
  },
  "widgets": {
   "application/vnd.jupyter.widget-state+json": {
    "state": {},
    "version_major": 2,
    "version_minor": 0
   }
  }
 },
 "nbformat": 4,
 "nbformat_minor": 5
}
